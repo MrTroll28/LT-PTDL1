{
 "cells": [
  {
   "cell_type": "markdown",
   "metadata": {},
   "source": [
    "### Data processing\n",
    "* Missing data\n",
    "* Feature enginering\n",
    "\n",
    "### EDA\n",
    "* Visualization\n",
    "* Phân tích mô tả dữ liệu\n",
    "    * Univariate analysis\n",
    "        * C\n",
    "        * dsd \n",
    "    * \n",
    "\n"
   ]
  },
  {
   "cell_type": "markdown",
   "metadata": {},
   "source": [
    "### Missing data\n",
    "* Xóa bỏ\n",
    "    * Loại bỏ dòng bị trùng\n",
    "    * Loại bỏ dòng bị rỗng\n",
    "* Filling\n",
    "    * Scaler\n",
    "    * Mean\n",
    "    * Median\n",
    "    * Mode\n",
    "    * Interpolate"
   ]
  },
  {
   "cell_type": "code",
   "execution_count": 1,
   "metadata": {},
   "outputs": [],
   "source": [
    "import pandas as pd \n",
    "import seaborn as sns\n",
    "import matplotlib.pyplot as plt\n",
    "import numpy as np"
   ]
  },
  {
   "cell_type": "code",
   "execution_count": 2,
   "metadata": {},
   "outputs": [
    {
     "name": "stdout",
     "output_type": "stream",
     "text": [
      "<class 'pandas.core.frame.DataFrame'>\n",
      "RangeIndex: 100 entries, 0 to 99\n",
      "Data columns (total 9 columns):\n",
      " #   Column               Non-Null Count  Dtype  \n",
      "---  ------               --------------  -----  \n",
      " 0   GT                   100 non-null    object \n",
      " 1   DT                   3 non-null      float64\n",
      " 2   KV                   100 non-null    object \n",
      " 3   KT                   100 non-null    object \n",
      " 4   M1                   100 non-null    float64\n",
      " 5   M2                   100 non-null    float64\n",
      " 6   M3                   100 non-null    float64\n",
      " 7   NGAYTHI              100 non-null    object \n",
      " 8   DINHHUONGNGHENGHIEP  100 non-null    object \n",
      "dtypes: float64(4), object(5)\n",
      "memory usage: 7.2+ KB\n"
     ]
    },
    {
     "data": {
      "text/html": [
       "<div>\n",
       "<style scoped>\n",
       "    .dataframe tbody tr th:only-of-type {\n",
       "        vertical-align: middle;\n",
       "    }\n",
       "\n",
       "    .dataframe tbody tr th {\n",
       "        vertical-align: top;\n",
       "    }\n",
       "\n",
       "    .dataframe thead th {\n",
       "        text-align: right;\n",
       "    }\n",
       "</style>\n",
       "<table border=\"1\" class=\"dataframe\">\n",
       "  <thead>\n",
       "    <tr style=\"text-align: right;\">\n",
       "      <th></th>\n",
       "      <th>GT</th>\n",
       "      <th>DT</th>\n",
       "      <th>KV</th>\n",
       "      <th>KT</th>\n",
       "      <th>M1</th>\n",
       "      <th>M2</th>\n",
       "      <th>M3</th>\n",
       "      <th>NT</th>\n",
       "      <th>NGHE</th>\n",
       "    </tr>\n",
       "  </thead>\n",
       "  <tbody>\n",
       "    <tr>\n",
       "      <th>0</th>\n",
       "      <td>F</td>\n",
       "      <td>NaN</td>\n",
       "      <td>2NT</td>\n",
       "      <td>A1</td>\n",
       "      <td>3.25</td>\n",
       "      <td>3.25</td>\n",
       "      <td>4.50</td>\n",
       "      <td>12/7/2018</td>\n",
       "      <td>No</td>\n",
       "    </tr>\n",
       "    <tr>\n",
       "      <th>1</th>\n",
       "      <td>M</td>\n",
       "      <td>NaN</td>\n",
       "      <td>1</td>\n",
       "      <td>C</td>\n",
       "      <td>6.00</td>\n",
       "      <td>4.00</td>\n",
       "      <td>3.50</td>\n",
       "      <td>12/7/2018</td>\n",
       "      <td>Yes</td>\n",
       "    </tr>\n",
       "    <tr>\n",
       "      <th>2</th>\n",
       "      <td>M</td>\n",
       "      <td>NaN</td>\n",
       "      <td>1</td>\n",
       "      <td>C</td>\n",
       "      <td>5.00</td>\n",
       "      <td>6.75</td>\n",
       "      <td>4.00</td>\n",
       "      <td>12/7/2018</td>\n",
       "      <td>No</td>\n",
       "    </tr>\n",
       "    <tr>\n",
       "      <th>3</th>\n",
       "      <td>M</td>\n",
       "      <td>NaN</td>\n",
       "      <td>1</td>\n",
       "      <td>D1</td>\n",
       "      <td>4.25</td>\n",
       "      <td>4.25</td>\n",
       "      <td>5.25</td>\n",
       "      <td>12/7/2018</td>\n",
       "      <td>No</td>\n",
       "    </tr>\n",
       "    <tr>\n",
       "      <th>4</th>\n",
       "      <td>M</td>\n",
       "      <td>NaN</td>\n",
       "      <td>2NT</td>\n",
       "      <td>A</td>\n",
       "      <td>4.25</td>\n",
       "      <td>4.50</td>\n",
       "      <td>5.00</td>\n",
       "      <td>12/7/2018</td>\n",
       "      <td>No</td>\n",
       "    </tr>\n",
       "  </tbody>\n",
       "</table>\n",
       "</div>"
      ],
      "text/plain": [
       "  GT  DT   KV  KT    M1    M2    M3         NT NGHE\n",
       "0  F NaN  2NT  A1  3.25  3.25  4.50  12/7/2018   No\n",
       "1  M NaN    1   C  6.00  4.00  3.50  12/7/2018  Yes\n",
       "2  M NaN    1   C  5.00  6.75  4.00  12/7/2018   No\n",
       "3  M NaN    1  D1  4.25  4.25  5.25  12/7/2018   No\n",
       "4  M NaN  2NT   A  4.25  4.50  5.00  12/7/2018   No"
      ]
     },
     "execution_count": 2,
     "metadata": {},
     "output_type": "execute_result"
    }
   ],
   "source": [
    "df = pd.read_csv('../data/dulieuxettuyendaihoc.csv',\n",
    "                 header=0,delimiter=','\n",
    "                 ,encoding='utf-8')\n",
    "df = df[['GT','DT','KV','KT','M1',\n",
    "         'M2','M3',\n",
    "         'NGAYTHI','DINHHUONGNGHENGHIEP']]\n",
    "\n",
    "df.info()\n",
    "df.rename(columns={'NGAYTHI':'NT',\n",
    "                   'DINHHUONGNGHENGHIEP':'NGHE'}, \n",
    "                   inplace=True)\n",
    "df.head(5)"
   ]
  },
  {
   "cell_type": "code",
   "execution_count": 9,
   "metadata": {},
   "outputs": [
    {
     "data": {
      "image/png": "[encoded data removed]",
      "text/plain": [
       "<Figure size 1000x600 with 2 Axes>"
      ]
     },
     "metadata": {},
     "output_type": "display_data"
    }
   ],
   "source": [
    "plt.figure(figsize=(10,6))\n",
    "sns.heatmap(df.isna().transpose(),cmap='YlGnBu',\n",
    "            cbar_kws={'label':'Dữ liệu thiếu'})\n",
    "plt.savefig('missingdata.png', dpi=100)\n",
    "plt.show()"
   ]
  },
  {
   "cell_type": "markdown",
   "metadata": {},
   "source": [
    "##### Fill dữ liệu trùng"
   ]
  },
  {
   "cell_type": "code",
   "execution_count": null,
   "metadata": {},
   "outputs": [],
   "source": [
    "df['DT'].fillna('KINH', inplace=True)\n",
    "df['M1'].fillna(df['M1'].mean(), inplace=True)\n",
    "df['M2'].fillna(df['M2'].median(), inplace=True)\n",
    "df['M3'].fillna(0, inplace=True)"
   ]
  },
  {
   "cell_type": "markdown",
   "metadata": {},
   "source": [
    "##### Tạo cột TBM"
   ]
  },
  {
   "cell_type": "code",
   "execution_count": 4,
   "metadata": {},
   "outputs": [
    {
     "data": {
      "text/html": [
       "<div>\n",
       "<style scoped>\n",
       "    .dataframe tbody tr th:only-of-type {\n",
       "        vertical-align: middle;\n",
       "    }\n",
       "\n",
       "    .dataframe tbody tr th {\n",
       "        vertical-align: top;\n",
       "    }\n",
       "\n",
       "    .dataframe thead th {\n",
       "        text-align: right;\n",
       "    }\n",
       "</style>\n",
       "<table border=\"1\" class=\"dataframe\">\n",
       "  <thead>\n",
       "    <tr style=\"text-align: right;\">\n",
       "      <th></th>\n",
       "      <th>GT</th>\n",
       "      <th>DT</th>\n",
       "      <th>KV</th>\n",
       "      <th>KT</th>\n",
       "      <th>M1</th>\n",
       "      <th>M2</th>\n",
       "      <th>M3</th>\n",
       "      <th>NT</th>\n",
       "      <th>NGHE</th>\n",
       "      <th>TBM</th>\n",
       "    </tr>\n",
       "  </thead>\n",
       "  <tbody>\n",
       "    <tr>\n",
       "      <th>0</th>\n",
       "      <td>F</td>\n",
       "      <td>KINH</td>\n",
       "      <td>2NT</td>\n",
       "      <td>A1</td>\n",
       "      <td>3.25</td>\n",
       "      <td>3.25</td>\n",
       "      <td>4.50</td>\n",
       "      <td>12/7/2018</td>\n",
       "      <td>No</td>\n",
       "      <td>3.666667</td>\n",
       "    </tr>\n",
       "    <tr>\n",
       "      <th>1</th>\n",
       "      <td>M</td>\n",
       "      <td>KINH</td>\n",
       "      <td>1</td>\n",
       "      <td>C</td>\n",
       "      <td>6.00</td>\n",
       "      <td>4.00</td>\n",
       "      <td>3.50</td>\n",
       "      <td>12/7/2018</td>\n",
       "      <td>Yes</td>\n",
       "      <td>4.500000</td>\n",
       "    </tr>\n",
       "    <tr>\n",
       "      <th>2</th>\n",
       "      <td>M</td>\n",
       "      <td>KINH</td>\n",
       "      <td>1</td>\n",
       "      <td>C</td>\n",
       "      <td>5.00</td>\n",
       "      <td>6.75</td>\n",
       "      <td>4.00</td>\n",
       "      <td>12/7/2018</td>\n",
       "      <td>No</td>\n",
       "      <td>5.250000</td>\n",
       "    </tr>\n",
       "    <tr>\n",
       "      <th>3</th>\n",
       "      <td>M</td>\n",
       "      <td>KINH</td>\n",
       "      <td>1</td>\n",
       "      <td>D1</td>\n",
       "      <td>4.25</td>\n",
       "      <td>4.25</td>\n",
       "      <td>5.25</td>\n",
       "      <td>12/7/2018</td>\n",
       "      <td>No</td>\n",
       "      <td>4.583333</td>\n",
       "    </tr>\n",
       "    <tr>\n",
       "      <th>4</th>\n",
       "      <td>M</td>\n",
       "      <td>KINH</td>\n",
       "      <td>2NT</td>\n",
       "      <td>A</td>\n",
       "      <td>4.25</td>\n",
       "      <td>4.50</td>\n",
       "      <td>5.00</td>\n",
       "      <td>12/7/2018</td>\n",
       "      <td>No</td>\n",
       "      <td>4.583333</td>\n",
       "    </tr>\n",
       "  </tbody>\n",
       "</table>\n",
       "</div>"
      ],
      "text/plain": [
       "  GT    DT   KV  KT    M1    M2    M3         NT NGHE       TBM\n",
       "0  F  KINH  2NT  A1  3.25  3.25  4.50  12/7/2018   No  3.666667\n",
       "1  M  KINH    1   C  6.00  4.00  3.50  12/7/2018  Yes  4.500000\n",
       "2  M  KINH    1   C  5.00  6.75  4.00  12/7/2018   No  5.250000\n",
       "3  M  KINH    1  D1  4.25  4.25  5.25  12/7/2018   No  4.583333\n",
       "4  M  KINH  2NT   A  4.25  4.50  5.00  12/7/2018   No  4.583333"
      ]
     },
     "execution_count": 4,
     "metadata": {},
     "output_type": "execute_result"
    }
   ],
   "source": [
    "df['TBM'] = (df['M1']+df['M2']+df['M3'])/3\n",
    "df.head(5)"
   ]
  },
  {
   "cell_type": "markdown",
   "metadata": {},
   "source": [
    "##### Tạo cột XL"
   ]
  },
  {
   "cell_type": "code",
   "execution_count": 5,
   "metadata": {},
   "outputs": [
    {
     "data": {
      "text/html": [
       "<div>\n",
       "<style scoped>\n",
       "    .dataframe tbody tr th:only-of-type {\n",
       "        vertical-align: middle;\n",
       "    }\n",
       "\n",
       "    .dataframe tbody tr th {\n",
       "        vertical-align: top;\n",
       "    }\n",
       "\n",
       "    .dataframe thead th {\n",
       "        text-align: right;\n",
       "    }\n",
       "</style>\n",
       "<table border=\"1\" class=\"dataframe\">\n",
       "  <thead>\n",
       "    <tr style=\"text-align: right;\">\n",
       "      <th></th>\n",
       "      <th>GT</th>\n",
       "      <th>DT</th>\n",
       "      <th>KV</th>\n",
       "      <th>KT</th>\n",
       "      <th>M1</th>\n",
       "      <th>M2</th>\n",
       "      <th>M3</th>\n",
       "      <th>NT</th>\n",
       "      <th>NGHE</th>\n",
       "      <th>TBM</th>\n",
       "      <th>XL</th>\n",
       "    </tr>\n",
       "  </thead>\n",
       "  <tbody>\n",
       "    <tr>\n",
       "      <th>0</th>\n",
       "      <td>F</td>\n",
       "      <td>KINH</td>\n",
       "      <td>2NT</td>\n",
       "      <td>A1</td>\n",
       "      <td>3.25</td>\n",
       "      <td>3.25</td>\n",
       "      <td>4.50</td>\n",
       "      <td>12/7/2018</td>\n",
       "      <td>No</td>\n",
       "      <td>3.666667</td>\n",
       "      <td>FAIL</td>\n",
       "    </tr>\n",
       "    <tr>\n",
       "      <th>1</th>\n",
       "      <td>M</td>\n",
       "      <td>KINH</td>\n",
       "      <td>1</td>\n",
       "      <td>C</td>\n",
       "      <td>6.00</td>\n",
       "      <td>4.00</td>\n",
       "      <td>3.50</td>\n",
       "      <td>12/7/2018</td>\n",
       "      <td>Yes</td>\n",
       "      <td>4.500000</td>\n",
       "      <td>FAIL</td>\n",
       "    </tr>\n",
       "    <tr>\n",
       "      <th>2</th>\n",
       "      <td>M</td>\n",
       "      <td>KINH</td>\n",
       "      <td>1</td>\n",
       "      <td>C</td>\n",
       "      <td>5.00</td>\n",
       "      <td>6.75</td>\n",
       "      <td>4.00</td>\n",
       "      <td>12/7/2018</td>\n",
       "      <td>No</td>\n",
       "      <td>5.250000</td>\n",
       "      <td>FAIR</td>\n",
       "    </tr>\n",
       "    <tr>\n",
       "      <th>3</th>\n",
       "      <td>M</td>\n",
       "      <td>KINH</td>\n",
       "      <td>1</td>\n",
       "      <td>D1</td>\n",
       "      <td>4.25</td>\n",
       "      <td>4.25</td>\n",
       "      <td>5.25</td>\n",
       "      <td>12/7/2018</td>\n",
       "      <td>No</td>\n",
       "      <td>4.583333</td>\n",
       "      <td>FAIL</td>\n",
       "    </tr>\n",
       "    <tr>\n",
       "      <th>4</th>\n",
       "      <td>M</td>\n",
       "      <td>KINH</td>\n",
       "      <td>2NT</td>\n",
       "      <td>A</td>\n",
       "      <td>4.25</td>\n",
       "      <td>4.50</td>\n",
       "      <td>5.00</td>\n",
       "      <td>12/7/2018</td>\n",
       "      <td>No</td>\n",
       "      <td>4.583333</td>\n",
       "      <td>FAIL</td>\n",
       "    </tr>\n",
       "  </tbody>\n",
       "</table>\n",
       "</div>"
      ],
      "text/plain": [
       "  GT    DT   KV  KT    M1    M2    M3         NT NGHE       TBM    XL\n",
       "0  F  KINH  2NT  A1  3.25  3.25  4.50  12/7/2018   No  3.666667  FAIL\n",
       "1  M  KINH    1   C  6.00  4.00  3.50  12/7/2018  Yes  4.500000  FAIL\n",
       "2  M  KINH    1   C  5.00  6.75  4.00  12/7/2018   No  5.250000  FAIR\n",
       "3  M  KINH    1  D1  4.25  4.25  5.25  12/7/2018   No  4.583333  FAIL\n",
       "4  M  KINH  2NT   A  4.25  4.50  5.00  12/7/2018   No  4.583333  FAIL"
      ]
     },
     "execution_count": 5,
     "metadata": {},
     "output_type": "execute_result"
    }
   ],
   "source": [
    "df.loc[df['TBM'] < 5.0, 'XL'] = 'FAIL'\n",
    "\n",
    "df.loc[(df['TBM'] >= 5.0) & \n",
    "       (df['TBM'] < 7.0), 'XL'] = 'FAIR'\n",
    "\n",
    "df.loc[(df['TBM'] >= 7.0) & \n",
    "       (df['TBM'] < 9.0), 'XL'] = 'GOOD'\n",
    "\n",
    "df.loc[df['TBM'] >= 9.0, 'XL'] = 'EXCEL'\n",
    "df.head(5)"
   ]
  },
  {
   "cell_type": "markdown",
   "metadata": {},
   "source": [
    "##### Tạo dictionary"
   ]
  },
  {
   "cell_type": "code",
   "execution_count": 6,
   "metadata": {},
   "outputs": [
    {
     "data": {
      "text/html": [
       "<div>\n",
       "<style scoped>\n",
       "    .dataframe tbody tr th:only-of-type {\n",
       "        vertical-align: middle;\n",
       "    }\n",
       "\n",
       "    .dataframe tbody tr th {\n",
       "        vertical-align: top;\n",
       "    }\n",
       "\n",
       "    .dataframe thead th {\n",
       "        text-align: right;\n",
       "    }\n",
       "</style>\n",
       "<table border=\"1\" class=\"dataframe\">\n",
       "  <thead>\n",
       "    <tr style=\"text-align: right;\">\n",
       "      <th></th>\n",
       "      <th>GT</th>\n",
       "      <th>DT</th>\n",
       "      <th>KV</th>\n",
       "      <th>KT</th>\n",
       "      <th>M1</th>\n",
       "      <th>M2</th>\n",
       "      <th>M3</th>\n",
       "      <th>NT</th>\n",
       "      <th>NGHE</th>\n",
       "      <th>TBM</th>\n",
       "      <th>XL</th>\n",
       "      <th>NHOM</th>\n",
       "    </tr>\n",
       "  </thead>\n",
       "  <tbody>\n",
       "    <tr>\n",
       "      <th>0</th>\n",
       "      <td>F</td>\n",
       "      <td>KINH</td>\n",
       "      <td>2NT</td>\n",
       "      <td>A1</td>\n",
       "      <td>3.25</td>\n",
       "      <td>3.25</td>\n",
       "      <td>4.50</td>\n",
       "      <td>12/7/2018</td>\n",
       "      <td>No</td>\n",
       "      <td>3.666667</td>\n",
       "      <td>FAIL</td>\n",
       "      <td>G1</td>\n",
       "    </tr>\n",
       "    <tr>\n",
       "      <th>1</th>\n",
       "      <td>M</td>\n",
       "      <td>KINH</td>\n",
       "      <td>1</td>\n",
       "      <td>C</td>\n",
       "      <td>6.00</td>\n",
       "      <td>4.00</td>\n",
       "      <td>3.50</td>\n",
       "      <td>12/7/2018</td>\n",
       "      <td>Yes</td>\n",
       "      <td>4.500000</td>\n",
       "      <td>FAIL</td>\n",
       "      <td>G3</td>\n",
       "    </tr>\n",
       "    <tr>\n",
       "      <th>2</th>\n",
       "      <td>M</td>\n",
       "      <td>KINH</td>\n",
       "      <td>1</td>\n",
       "      <td>C</td>\n",
       "      <td>5.00</td>\n",
       "      <td>6.75</td>\n",
       "      <td>4.00</td>\n",
       "      <td>12/7/2018</td>\n",
       "      <td>No</td>\n",
       "      <td>5.250000</td>\n",
       "      <td>FAIR</td>\n",
       "      <td>G3</td>\n",
       "    </tr>\n",
       "    <tr>\n",
       "      <th>3</th>\n",
       "      <td>M</td>\n",
       "      <td>KINH</td>\n",
       "      <td>1</td>\n",
       "      <td>D1</td>\n",
       "      <td>4.25</td>\n",
       "      <td>4.25</td>\n",
       "      <td>5.25</td>\n",
       "      <td>12/7/2018</td>\n",
       "      <td>No</td>\n",
       "      <td>4.583333</td>\n",
       "      <td>FAIL</td>\n",
       "      <td>G3</td>\n",
       "    </tr>\n",
       "    <tr>\n",
       "      <th>4</th>\n",
       "      <td>M</td>\n",
       "      <td>KINH</td>\n",
       "      <td>2NT</td>\n",
       "      <td>A</td>\n",
       "      <td>4.25</td>\n",
       "      <td>4.50</td>\n",
       "      <td>5.00</td>\n",
       "      <td>12/7/2018</td>\n",
       "      <td>No</td>\n",
       "      <td>4.583333</td>\n",
       "      <td>FAIL</td>\n",
       "      <td>G1</td>\n",
       "    </tr>\n",
       "  </tbody>\n",
       "</table>\n",
       "</div>"
      ],
      "text/plain": [
       "  GT    DT   KV  KT    M1    M2    M3         NT NGHE       TBM    XL NHOM\n",
       "0  F  KINH  2NT  A1  3.25  3.25  4.50  12/7/2018   No  3.666667  FAIL   G1\n",
       "1  M  KINH    1   C  6.00  4.00  3.50  12/7/2018  Yes  4.500000  FAIL   G3\n",
       "2  M  KINH    1   C  5.00  6.75  4.00  12/7/2018   No  5.250000  FAIR   G3\n",
       "3  M  KINH    1  D1  4.25  4.25  5.25  12/7/2018   No  4.583333  FAIL   G3\n",
       "4  M  KINH  2NT   A  4.25  4.50  5.00  12/7/2018   No  4.583333  FAIL   G1"
      ]
     },
     "execution_count": 6,
     "metadata": {},
     "output_type": "execute_result"
    }
   ],
   "source": [
    "dict_map = {\n",
    "    'A1':'G1', 'C':'G3', 'D1': 'G3', 'A': 'G1', 'B': 'G2'\n",
    "}\n",
    "df['NHOM'] = df['KT'].map(dict_map)\n",
    "df.head(5)"
   ]
  },
  {
   "cell_type": "markdown",
   "metadata": {},
   "source": [
    "##### Tạo cột điểm cộng `PLUS`"
   ]
  },
  {
   "cell_type": "code",
   "execution_count": 7,
   "metadata": {},
   "outputs": [
    {
     "data": {
      "text/html": [
       "<div>\n",
       "<style scoped>\n",
       "    .dataframe tbody tr th:only-of-type {\n",
       "        vertical-align: middle;\n",
       "    }\n",
       "\n",
       "    .dataframe tbody tr th {\n",
       "        vertical-align: top;\n",
       "    }\n",
       "\n",
       "    .dataframe thead th {\n",
       "        text-align: right;\n",
       "    }\n",
       "</style>\n",
       "<table border=\"1\" class=\"dataframe\">\n",
       "  <thead>\n",
       "    <tr style=\"text-align: right;\">\n",
       "      <th></th>\n",
       "      <th>GT</th>\n",
       "      <th>DT</th>\n",
       "      <th>KV</th>\n",
       "      <th>KT</th>\n",
       "      <th>M1</th>\n",
       "      <th>M2</th>\n",
       "      <th>M3</th>\n",
       "      <th>NT</th>\n",
       "      <th>NGHE</th>\n",
       "      <th>TBM</th>\n",
       "      <th>XL</th>\n",
       "      <th>NHOM</th>\n",
       "      <th>PLUS</th>\n",
       "    </tr>\n",
       "  </thead>\n",
       "  <tbody>\n",
       "    <tr>\n",
       "      <th>0</th>\n",
       "      <td>F</td>\n",
       "      <td>KINH</td>\n",
       "      <td>2NT</td>\n",
       "      <td>A1</td>\n",
       "      <td>3.25</td>\n",
       "      <td>3.25</td>\n",
       "      <td>4.50</td>\n",
       "      <td>12/7/2018</td>\n",
       "      <td>No</td>\n",
       "      <td>3.666667</td>\n",
       "      <td>FAIL</td>\n",
       "      <td>G1</td>\n",
       "      <td>0.0</td>\n",
       "    </tr>\n",
       "    <tr>\n",
       "      <th>1</th>\n",
       "      <td>M</td>\n",
       "      <td>KINH</td>\n",
       "      <td>1</td>\n",
       "      <td>C</td>\n",
       "      <td>6.00</td>\n",
       "      <td>4.00</td>\n",
       "      <td>3.50</td>\n",
       "      <td>12/7/2018</td>\n",
       "      <td>Yes</td>\n",
       "      <td>4.500000</td>\n",
       "      <td>FAIL</td>\n",
       "      <td>G3</td>\n",
       "      <td>0.0</td>\n",
       "    </tr>\n",
       "    <tr>\n",
       "      <th>2</th>\n",
       "      <td>M</td>\n",
       "      <td>KINH</td>\n",
       "      <td>1</td>\n",
       "      <td>C</td>\n",
       "      <td>5.00</td>\n",
       "      <td>6.75</td>\n",
       "      <td>4.00</td>\n",
       "      <td>12/7/2018</td>\n",
       "      <td>No</td>\n",
       "      <td>5.250000</td>\n",
       "      <td>FAIR</td>\n",
       "      <td>G3</td>\n",
       "      <td>0.0</td>\n",
       "    </tr>\n",
       "    <tr>\n",
       "      <th>3</th>\n",
       "      <td>M</td>\n",
       "      <td>KINH</td>\n",
       "      <td>1</td>\n",
       "      <td>D1</td>\n",
       "      <td>4.25</td>\n",
       "      <td>4.25</td>\n",
       "      <td>5.25</td>\n",
       "      <td>12/7/2018</td>\n",
       "      <td>No</td>\n",
       "      <td>4.583333</td>\n",
       "      <td>FAIL</td>\n",
       "      <td>G3</td>\n",
       "      <td>0.0</td>\n",
       "    </tr>\n",
       "    <tr>\n",
       "      <th>4</th>\n",
       "      <td>M</td>\n",
       "      <td>KINH</td>\n",
       "      <td>2NT</td>\n",
       "      <td>A</td>\n",
       "      <td>4.25</td>\n",
       "      <td>4.50</td>\n",
       "      <td>5.00</td>\n",
       "      <td>12/7/2018</td>\n",
       "      <td>No</td>\n",
       "      <td>4.583333</td>\n",
       "      <td>FAIL</td>\n",
       "      <td>G1</td>\n",
       "      <td>1.0</td>\n",
       "    </tr>\n",
       "  </tbody>\n",
       "</table>\n",
       "</div>"
      ],
      "text/plain": [
       "  GT    DT   KV  KT    M1    M2    M3         NT NGHE       TBM    XL NHOM  \\\n",
       "0  F  KINH  2NT  A1  3.25  3.25  4.50  12/7/2018   No  3.666667  FAIL   G1   \n",
       "1  M  KINH    1   C  6.00  4.00  3.50  12/7/2018  Yes  4.500000  FAIL   G3   \n",
       "2  M  KINH    1   C  5.00  6.75  4.00  12/7/2018   No  5.250000  FAIR   G3   \n",
       "3  M  KINH    1  D1  4.25  4.25  5.25  12/7/2018   No  4.583333  FAIL   G3   \n",
       "4  M  KINH  2NT   A  4.25  4.50  5.00  12/7/2018   No  4.583333  FAIL   G1   \n",
       "\n",
       "   PLUS  \n",
       "0   0.0  \n",
       "1   0.0  \n",
       "2   0.0  \n",
       "3   0.0  \n",
       "4   1.0  "
      ]
     },
     "execution_count": 7,
     "metadata": {},
     "output_type": "execute_result"
    }
   ],
   "source": [
    "def fplus(x,y):\n",
    "    if (x == 'G1' or x == 'G2') and (y >= 4.0):\n",
    "        return 1.0\n",
    "    else:\n",
    "        return 0.0\n",
    "\n",
    "df['PLUS'] = list(map(fplus,df['NHOM'],df['TBM']))\n",
    "df.head(5)"
   ]
  },
  {
   "cell_type": "markdown",
   "metadata": {},
   "source": [
    "### Bài tập về nhà\n",
    "Tạo cột `MaxM` = gtri lớn nhất của (`M1`, `M2`, `M3`)"
   ]
  },
  {
   "cell_type": "code",
   "execution_count": 8,
   "metadata": {},
   "outputs": [
    {
     "data": {
      "text/html": [
       "<div>\n",
       "<style scoped>\n",
       "    .dataframe tbody tr th:only-of-type {\n",
       "        vertical-align: middle;\n",
       "    }\n",
       "\n",
       "    .dataframe tbody tr th {\n",
       "        vertical-align: top;\n",
       "    }\n",
       "\n",
       "    .dataframe thead th {\n",
       "        text-align: right;\n",
       "    }\n",
       "</style>\n",
       "<table border=\"1\" class=\"dataframe\">\n",
       "  <thead>\n",
       "    <tr style=\"text-align: right;\">\n",
       "      <th></th>\n",
       "      <th>GT</th>\n",
       "      <th>DT</th>\n",
       "      <th>KV</th>\n",
       "      <th>KT</th>\n",
       "      <th>M1</th>\n",
       "      <th>M2</th>\n",
       "      <th>M3</th>\n",
       "      <th>NT</th>\n",
       "      <th>NGHE</th>\n",
       "      <th>TBM</th>\n",
       "      <th>XL</th>\n",
       "      <th>NHOM</th>\n",
       "      <th>PLUS</th>\n",
       "      <th>MaxM</th>\n",
       "    </tr>\n",
       "  </thead>\n",
       "  <tbody>\n",
       "    <tr>\n",
       "      <th>0</th>\n",
       "      <td>F</td>\n",
       "      <td>KINH</td>\n",
       "      <td>2NT</td>\n",
       "      <td>A1</td>\n",
       "      <td>3.25</td>\n",
       "      <td>3.25</td>\n",
       "      <td>4.50</td>\n",
       "      <td>12/7/2018</td>\n",
       "      <td>No</td>\n",
       "      <td>3.666667</td>\n",
       "      <td>FAIL</td>\n",
       "      <td>G1</td>\n",
       "      <td>0.0</td>\n",
       "      <td>4.50</td>\n",
       "    </tr>\n",
       "    <tr>\n",
       "      <th>1</th>\n",
       "      <td>M</td>\n",
       "      <td>KINH</td>\n",
       "      <td>1</td>\n",
       "      <td>C</td>\n",
       "      <td>6.00</td>\n",
       "      <td>4.00</td>\n",
       "      <td>3.50</td>\n",
       "      <td>12/7/2018</td>\n",
       "      <td>Yes</td>\n",
       "      <td>4.500000</td>\n",
       "      <td>FAIL</td>\n",
       "      <td>G3</td>\n",
       "      <td>0.0</td>\n",
       "      <td>6.00</td>\n",
       "    </tr>\n",
       "    <tr>\n",
       "      <th>2</th>\n",
       "      <td>M</td>\n",
       "      <td>KINH</td>\n",
       "      <td>1</td>\n",
       "      <td>C</td>\n",
       "      <td>5.00</td>\n",
       "      <td>6.75</td>\n",
       "      <td>4.00</td>\n",
       "      <td>12/7/2018</td>\n",
       "      <td>No</td>\n",
       "      <td>5.250000</td>\n",
       "      <td>FAIR</td>\n",
       "      <td>G3</td>\n",
       "      <td>0.0</td>\n",
       "      <td>6.75</td>\n",
       "    </tr>\n",
       "    <tr>\n",
       "      <th>3</th>\n",
       "      <td>M</td>\n",
       "      <td>KINH</td>\n",
       "      <td>1</td>\n",
       "      <td>D1</td>\n",
       "      <td>4.25</td>\n",
       "      <td>4.25</td>\n",
       "      <td>5.25</td>\n",
       "      <td>12/7/2018</td>\n",
       "      <td>No</td>\n",
       "      <td>4.583333</td>\n",
       "      <td>FAIL</td>\n",
       "      <td>G3</td>\n",
       "      <td>0.0</td>\n",
       "      <td>5.25</td>\n",
       "    </tr>\n",
       "    <tr>\n",
       "      <th>4</th>\n",
       "      <td>M</td>\n",
       "      <td>KINH</td>\n",
       "      <td>2NT</td>\n",
       "      <td>A</td>\n",
       "      <td>4.25</td>\n",
       "      <td>4.50</td>\n",
       "      <td>5.00</td>\n",
       "      <td>12/7/2018</td>\n",
       "      <td>No</td>\n",
       "      <td>4.583333</td>\n",
       "      <td>FAIL</td>\n",
       "      <td>G1</td>\n",
       "      <td>1.0</td>\n",
       "      <td>5.00</td>\n",
       "    </tr>\n",
       "  </tbody>\n",
       "</table>\n",
       "</div>"
      ],
      "text/plain": [
       "  GT    DT   KV  KT    M1    M2    M3         NT NGHE       TBM    XL NHOM  \\\n",
       "0  F  KINH  2NT  A1  3.25  3.25  4.50  12/7/2018   No  3.666667  FAIL   G1   \n",
       "1  M  KINH    1   C  6.00  4.00  3.50  12/7/2018  Yes  4.500000  FAIL   G3   \n",
       "2  M  KINH    1   C  5.00  6.75  4.00  12/7/2018   No  5.250000  FAIR   G3   \n",
       "3  M  KINH    1  D1  4.25  4.25  5.25  12/7/2018   No  4.583333  FAIL   G3   \n",
       "4  M  KINH  2NT   A  4.25  4.50  5.00  12/7/2018   No  4.583333  FAIL   G1   \n",
       "\n",
       "   PLUS  MaxM  \n",
       "0   0.0  4.50  \n",
       "1   0.0  6.00  \n",
       "2   0.0  6.75  \n",
       "3   0.0  5.25  \n",
       "4   1.0  5.00  "
      ]
     },
     "execution_count": 8,
     "metadata": {},
     "output_type": "execute_result"
    }
   ],
   "source": [
    "def maxM(array):\n",
    "    return np.max(array)\n",
    "\n",
    "df['MaxM'] = df[['M1','M2','M3']].apply(maxM, axis=1)\n",
    "df.head(5)"
   ]
  },
  {
   "cell_type": "markdown",
   "metadata": {},
   "source": [
    "### Visualization\n",
    "\n",
    "* Collumn\n",
    "    * So sánh độ lớn\n",
    "    * Ox, Oy\n",
    "* Pie\n",
    "    * Tỉ lệ phần trăm \n",
    "    * Toàn bộ 100%\n",
    "    * Tỉ lệ % theo màu sắc\n",
    "* Line\n",
    "    * Sử dụng khi biểu diễn độ lớn dữ liệu có tính thứ tự   ***Theo thời gian***\n",
    "    * Ox, Oy"
   ]
  },
  {
   "cell_type": "markdown",
   "metadata": {},
   "source": [
    "Thống kê giới tính (cột cao hơn là giới tính nào)"
   ]
  },
  {
   "cell_type": "code",
   "execution_count": 9,
   "metadata": {},
   "outputs": [
    {
     "data": {
      "image/png": "[encoded data removed]",
      "text/plain": [
       "<Figure size 640x480 with 1 Axes>"
      ]
     },
     "metadata": {},
     "output_type": "display_data"
    }
   ],
   "source": [
    "sns.countplot(x='GT', data=df)\n",
    "plt.show()"
   ]
  },
  {
   "cell_type": "markdown",
   "metadata": {},
   "source": [
    "Cột cao hơn khối thi nào"
   ]
  },
  {
   "cell_type": "code",
   "execution_count": 10,
   "metadata": {},
   "outputs": [
    {
     "data": {
      "image/png": "[encoded data removed]",
      "text/plain": [
       "<Figure size 640x480 with 1 Axes>"
      ]
     },
     "metadata": {},
     "output_type": "display_data"
    }
   ],
   "source": [
    "sns.countplot(x='KT', hue='GT',data=df)\n",
    "plt.show()"
   ]
  },
  {
   "cell_type": "markdown",
   "metadata": {},
   "source": [
    "Sinh viên tự làm tương tự cho các nhóm \n",
    "biến định tính: (`KV`,`KT`)\n",
    "-->Hãy cho biết khối `A` có sinh viên khu vực nào đăng ký nhiều nhất"
   ]
  },
  {
   "cell_type": "code",
   "execution_count": 11,
   "metadata": {},
   "outputs": [
    {
     "data": {
      "image/png": "[encoded data removed]",
      "text/plain": [
       "<Figure size 640x480 with 1 Axes>"
      ]
     },
     "metadata": {},
     "output_type": "display_data"
    }
   ],
   "source": [
    "sns.barplot(x='GT', y='M1', data=df, errorbar=None)\n",
    "plt.show()\n"
   ]
  },
  {
   "cell_type": "markdown",
   "metadata": {},
   "source": [
    "Hãy so sánh trung bình điểm `M2` theo `NHOM`\n",
    "-> Cho biết nhóm thi nào có điểm thi `M2` cao nhất"
   ]
  },
  {
   "cell_type": "code",
   "execution_count": 12,
   "metadata": {},
   "outputs": [
    {
     "data": {
      "image/png": "[encoded data removed]",
      "text/plain": [
       "<Figure size 640x480 with 1 Axes>"
      ]
     },
     "metadata": {},
     "output_type": "display_data"
    },
    {
     "data": {
      "image/png": "[encoded data removed]",
      "text/plain": [
       "<Figure size 640x480 with 1 Axes>"
      ]
     },
     "metadata": {},
     "output_type": "display_data"
    },
    {
     "data": {
      "image/png": "[encoded data removed]",
      "text/plain": [
       "<Figure size 640x480 with 1 Axes>"
      ]
     },
     "metadata": {},
     "output_type": "display_data"
    }
   ],
   "source": [
    "sns.barplot(x='GT', y='M1', hue='KT', data=df, errorbar=None)\n",
    "plt.show()\n",
    "\n",
    "sns.barplot(x='GT', y='M1', hue='KT', data=df)\n",
    "plt.show()\n",
    "\n",
    "sns.barplot(x='GT', y='M1', hue='KT', data=df, \n",
    "            errorbar=None, estimator=max)\n",
    "plt.show()"
   ]
  },
  {
   "cell_type": "code",
   "execution_count": 13,
   "metadata": {},
   "outputs": [
    {
     "data": {
      "image/png": "[encoded data removed]",
      "text/plain": [
       "<Figure size 640x480 with 1 Axes>"
      ]
     },
     "metadata": {},
     "output_type": "display_data"
    }
   ],
   "source": [
    "sns.barplot(x='KV', y='M1', hue='KT', \n",
    "            data=df, errorbar=None, estimator=np.max)\n",
    "plt.show()"
   ]
  },
  {
   "cell_type": "code",
   "execution_count": 14,
   "metadata": {},
   "outputs": [
    {
     "data": {
      "image/png": "[encoded data removed]",
      "text/plain": [
       "<Figure size 640x480 with 1 Axes>"
      ]
     },
     "metadata": {},
     "output_type": "display_data"
    }
   ],
   "source": [
    "gb = df.groupby(['KT'])['KT'].agg(['count'])\n",
    "\n",
    "labels = gb.index # labels = ['A','A1','B','C','D1']\n",
    "data = list(gb['count']) # data= [49,6,9,14,22]\n",
    "\n",
    "colors = sns.color_palette('pastel') # Tạo bảng màu\n",
    "\n",
    "plt.pie(data, labels=labels, colors=colors, \n",
    "        autopct='%1.1f%%', shadow=True)\n",
    "\n",
    "plt.show()"
   ]
  },
  {
   "cell_type": "code",
   "execution_count": 15,
   "metadata": {},
   "outputs": [
    {
     "data": {
      "image/png": "[encoded data removed]",
      "text/plain": [
       "<Figure size 640x480 with 1 Axes>"
      ]
     },
     "metadata": {},
     "output_type": "display_data"
    }
   ],
   "source": [
    "gb = df.groupby(['KV'])['PLUS'].agg(['sum'])\n",
    "\n",
    "labels = gb.index\n",
    "data = list(gb['sum'])\n",
    "\n",
    "colors = sns.color_palette('pastel') # Tạo bảng màu\n",
    "\n",
    "plt.pie(data, labels=labels, colors=colors, \n",
    "        autopct='%1.1f%%', shadow=True)\n",
    "\n",
    "plt.show()"
   ]
  },
  {
   "cell_type": "markdown",
   "metadata": {},
   "source": [
    "### Phân tích dữ liệu định lượng\n",
    "* Univariate Analysis\n",
    "    * Đại lượng đo lường mức độ tập trung\n",
    "    \n"
   ]
  },
  {
   "cell_type": "code",
   "execution_count": null,
   "metadata": {},
   "outputs": [],
   "source": []
  },
  {
   "cell_type": "markdown",
   "metadata": {},
   "source": [
    "### Phân tích đơn biến định lượng (Univariate analysis)"
   ]
  },
  {
   "cell_type": "code",
   "execution_count": 16,
   "metadata": {},
   "outputs": [
    {
     "data": {
      "text/plain": [
       "count    100.000000\n",
       "mean       3.740000\n",
       "std        1.424408\n",
       "min        1.000000\n",
       "25%        2.500000\n",
       "50%        3.625000\n",
       "75%        4.750000\n",
       "max        7.000000\n",
       "Name: M1, dtype: float64"
      ]
     },
     "execution_count": 16,
     "metadata": {},
     "output_type": "execute_result"
    }
   ],
   "source": [
    "df['M1'].describe()"
   ]
  },
  {
   "cell_type": "code",
   "execution_count": 17,
   "metadata": {},
   "outputs": [
    {
     "data": {
      "text/html": [
       "<div>\n",
       "<style scoped>\n",
       "    .dataframe tbody tr th:only-of-type {\n",
       "        vertical-align: middle;\n",
       "    }\n",
       "\n",
       "    .dataframe tbody tr th {\n",
       "        vertical-align: top;\n",
       "    }\n",
       "\n",
       "    .dataframe thead th {\n",
       "        text-align: right;\n",
       "    }\n",
       "</style>\n",
       "<table border=\"1\" class=\"dataframe\">\n",
       "  <thead>\n",
       "    <tr style=\"text-align: right;\">\n",
       "      <th></th>\n",
       "      <th>M1</th>\n",
       "      <th>M2</th>\n",
       "      <th>M3</th>\n",
       "    </tr>\n",
       "  </thead>\n",
       "  <tbody>\n",
       "    <tr>\n",
       "      <th>count</th>\n",
       "      <td>100.000000</td>\n",
       "      <td>100.000000</td>\n",
       "      <td>100.000000</td>\n",
       "    </tr>\n",
       "    <tr>\n",
       "      <th>mean</th>\n",
       "      <td>3.740000</td>\n",
       "      <td>4.255000</td>\n",
       "      <td>4.875000</td>\n",
       "    </tr>\n",
       "    <tr>\n",
       "      <th>std</th>\n",
       "      <td>1.424408</td>\n",
       "      <td>1.060053</td>\n",
       "      <td>1.041136</td>\n",
       "    </tr>\n",
       "    <tr>\n",
       "      <th>min</th>\n",
       "      <td>1.000000</td>\n",
       "      <td>1.500000</td>\n",
       "      <td>2.750000</td>\n",
       "    </tr>\n",
       "    <tr>\n",
       "      <th>25%</th>\n",
       "      <td>2.500000</td>\n",
       "      <td>3.500000</td>\n",
       "      <td>4.250000</td>\n",
       "    </tr>\n",
       "    <tr>\n",
       "      <th>50%</th>\n",
       "      <td>3.625000</td>\n",
       "      <td>4.125000</td>\n",
       "      <td>4.750000</td>\n",
       "    </tr>\n",
       "    <tr>\n",
       "      <th>75%</th>\n",
       "      <td>4.750000</td>\n",
       "      <td>4.750000</td>\n",
       "      <td>5.500000</td>\n",
       "    </tr>\n",
       "    <tr>\n",
       "      <th>max</th>\n",
       "      <td>7.000000</td>\n",
       "      <td>8.000000</td>\n",
       "      <td>8.000000</td>\n",
       "    </tr>\n",
       "  </tbody>\n",
       "</table>\n",
       "</div>"
      ],
      "text/plain": [
       "               M1          M2          M3\n",
       "count  100.000000  100.000000  100.000000\n",
       "mean     3.740000    4.255000    4.875000\n",
       "std      1.424408    1.060053    1.041136\n",
       "min      1.000000    1.500000    2.750000\n",
       "25%      2.500000    3.500000    4.250000\n",
       "50%      3.625000    4.125000    4.750000\n",
       "75%      4.750000    4.750000    5.500000\n",
       "max      7.000000    8.000000    8.000000"
      ]
     },
     "execution_count": 17,
     "metadata": {},
     "output_type": "execute_result"
    }
   ],
   "source": [
    "df[['M1','M2','M3']].describe()"
   ]
  },
  {
   "cell_type": "markdown",
   "metadata": {},
   "source": [
    "Trung bình điểm M1 theo giới tính nào tốt hơn ... ???"
   ]
  },
  {
   "cell_type": "code",
   "execution_count": 18,
   "metadata": {},
   "outputs": [
    {
     "data": {
      "text/html": [
       "<div>\n",
       "<style scoped>\n",
       "    .dataframe tbody tr th:only-of-type {\n",
       "        vertical-align: middle;\n",
       "    }\n",
       "\n",
       "    .dataframe tbody tr th {\n",
       "        vertical-align: top;\n",
       "    }\n",
       "\n",
       "    .dataframe thead th {\n",
       "        text-align: right;\n",
       "    }\n",
       "</style>\n",
       "<table border=\"1\" class=\"dataframe\">\n",
       "  <thead>\n",
       "    <tr style=\"text-align: right;\">\n",
       "      <th></th>\n",
       "      <th>count</th>\n",
       "      <th>mean</th>\n",
       "      <th>std</th>\n",
       "      <th>min</th>\n",
       "      <th>25%</th>\n",
       "      <th>50%</th>\n",
       "      <th>75%</th>\n",
       "      <th>max</th>\n",
       "    </tr>\n",
       "    <tr>\n",
       "      <th>GT</th>\n",
       "      <th></th>\n",
       "      <th></th>\n",
       "      <th></th>\n",
       "      <th></th>\n",
       "      <th></th>\n",
       "      <th></th>\n",
       "      <th></th>\n",
       "      <th></th>\n",
       "    </tr>\n",
       "  </thead>\n",
       "  <tbody>\n",
       "    <tr>\n",
       "      <th>F</th>\n",
       "      <td>48.0</td>\n",
       "      <td>3.854167</td>\n",
       "      <td>1.348594</td>\n",
       "      <td>1.25</td>\n",
       "      <td>3.1875</td>\n",
       "      <td>3.75</td>\n",
       "      <td>5.0</td>\n",
       "      <td>7.0</td>\n",
       "    </tr>\n",
       "    <tr>\n",
       "      <th>M</th>\n",
       "      <td>52.0</td>\n",
       "      <td>3.634615</td>\n",
       "      <td>1.496288</td>\n",
       "      <td>1.00</td>\n",
       "      <td>2.4375</td>\n",
       "      <td>3.50</td>\n",
       "      <td>4.5</td>\n",
       "      <td>7.0</td>\n",
       "    </tr>\n",
       "  </tbody>\n",
       "</table>\n",
       "</div>"
      ],
      "text/plain": [
       "    count      mean       std   min     25%   50%  75%  max\n",
       "GT                                                         \n",
       "F    48.0  3.854167  1.348594  1.25  3.1875  3.75  5.0  7.0\n",
       "M    52.0  3.634615  1.496288  1.00  2.4375  3.50  4.5  7.0"
      ]
     },
     "execution_count": 18,
     "metadata": {},
     "output_type": "execute_result"
    }
   ],
   "source": [
    "df.groupby('GT')['M1'].describe()"
   ]
  },
  {
   "cell_type": "markdown",
   "metadata": {},
   "source": [
    "Câu hỏi đặt ra:\n",
    "- Sinh viên có giới tính nam thì thi môn nào tốt hơn so với nữ\n",
    "- Lưu ý: Chỉ dùng 2 dòng code để thể hiện kết quả"
   ]
  },
  {
   "cell_type": "code",
   "execution_count": 19,
   "metadata": {},
   "outputs": [
    {
     "data": {
      "text/plain": [
       "GT\n",
       "F    0.252518\n",
       "M    0.240146\n",
       "Name: M2, dtype: float64"
      ]
     },
     "execution_count": 19,
     "metadata": {},
     "output_type": "execute_result"
    }
   ],
   "source": [
    "df.groupby('GT')['M2'].std()/df.groupby('GT')['M2'].mean()"
   ]
  },
  {
   "cell_type": "code",
   "execution_count": 20,
   "metadata": {},
   "outputs": [
    {
     "data": {
      "image/png": "[encoded data removed]",
      "text/plain": [
       "<Figure size 640x480 with 1 Axes>"
      ]
     },
     "metadata": {},
     "output_type": "display_data"
    }
   ],
   "source": [
    "df['M1'].hist(bins=14)\n",
    "plt.show()"
   ]
  },
  {
   "cell_type": "markdown",
   "metadata": {},
   "source": [
    "Hãy cho biết phân phối của biến số nào gần với phân phối chuẩn hơn"
   ]
  },
  {
   "cell_type": "code",
   "execution_count": 21,
   "metadata": {},
   "outputs": [
    {
     "data": {
      "image/png": "[encoded data removed]",
      "text/plain": [
       "<Figure size 570.875x500 with 1 Axes>"
      ]
     },
     "metadata": {},
     "output_type": "display_data"
    }
   ],
   "source": [
    "sns.displot(data = df[['M1','M2','M3']], kind='kde')\n",
    "plt.show()"
   ]
  },
  {
   "cell_type": "markdown",
   "metadata": {},
   "source": [
    "Độ xiên.\n",
    "Lệnh trái càng đi về trái sx càng nhỏ.\n",
    "- `Skew`> 0 : Positive (Lệch Phải) \n",
    "- `Skew`< 0 : Negative (Lệch Trái) \n",
    "- `Skew`= 0 : Không lệch (Phân phối chuẩn)"
   ]
  },
  {
   "cell_type": "code",
   "execution_count": 22,
   "metadata": {},
   "outputs": [
    {
     "data": {
      "text/plain": [
       "M1    0.333221\n",
       "M2    0.472551\n",
       "M3    0.607063\n",
       "dtype: float64"
      ]
     },
     "execution_count": 22,
     "metadata": {},
     "output_type": "execute_result"
    }
   ],
   "source": [
    "df[['M1','M2','M3']].skew()"
   ]
  },
  {
   "cell_type": "markdown",
   "metadata": {},
   "source": [
    "`kurtosis` Hình dáng độ nhọn\n",
    "- `Excess` > 0 Thin (Xác xuất khoảng dữ liệu ở giữa là `cao` nhât)\n",
    "- `Excess` < 0 Fat (Xác xuất khoảng dữ liệu ở giữa là `thấp` nhât)\n",
    "- `Excess` = 0 Fit (Xác xuất khoảng dữ liệu ở giữa là phân phối chuẩn)"
   ]
  },
  {
   "cell_type": "code",
   "execution_count": 23,
   "metadata": {},
   "outputs": [
    {
     "data": {
      "text/plain": [
       "M1   -0.517004\n",
       "M2    1.372439\n",
       "M3    0.442173\n",
       "dtype: float64"
      ]
     },
     "execution_count": 23,
     "metadata": {},
     "output_type": "execute_result"
    }
   ],
   "source": [
    "df[['M1','M2','M3']].kurtosis()\n",
    "# Hãy cho biết dạng phân phối nào là thin, fat và fit"
   ]
  },
  {
   "cell_type": "code",
   "execution_count": 24,
   "metadata": {},
   "outputs": [
    {
     "data": {
      "image/png": "[encoded data removed]",
      "text/plain": [
       "<Figure size 640x480 with 1 Axes>"
      ]
     },
     "metadata": {},
     "output_type": "display_data"
    }
   ],
   "source": [
    "from scipy import stats\n",
    "stats.probplot(df['M1'],plot=sns.mpl.pyplot)\n",
    "plt.show()\n",
    "# Hãy cho biết phân phối M1 có gần như phân phối chuẩn hay không\n"
   ]
  },
  {
   "cell_type": "markdown",
   "metadata": {},
   "source": [
    "`IQR` = `|Q3 - Q1|`\n",
    "- Lower bound = `Q1` - 1.5 * `IQR`\n",
    "- Upper bound = `Q3` + 1.5 * `IQR`"
   ]
  },
  {
   "cell_type": "code",
   "execution_count": 25,
   "metadata": {},
   "outputs": [
    {
     "data": {
      "image/png": "[encoded data removed]",
      "text/plain": [
       "<Figure size 640x480 with 1 Axes>"
      ]
     },
     "metadata": {},
     "output_type": "display_data"
    }
   ],
   "source": [
    "sns.boxplot(data=df['M2'], orient=\"h\")\n",
    "plt.show()\n",
    "# Với điểm M2\n",
    "# Hãy tính khoảng giá trị nghi ngờ bất thường\n",
    "# Hãy tính khoảng giá trị được cho là bất thường\n",
    "# Hãy tính xem có bao nhiêu sinh viên có điểm thi là bất thường\n"
   ]
  },
  {
   "cell_type": "code",
   "execution_count": 26,
   "metadata": {},
   "outputs": [
    {
     "data": {
      "image/png": "[encoded data removed]",
      "text/plain": [
       "<Figure size 640x480 with 1 Axes>"
      ]
     },
     "metadata": {},
     "output_type": "display_data"
    }
   ],
   "source": [
    "sns.boxplot(data=df[['M1','M2','M3']], orient='h')\n",
    "plt.show()\n",
    "# Câu hỏi: Hãy cho biết điểm số môn nào không xảy ra bất thường\n"
   ]
  },
  {
   "cell_type": "markdown",
   "metadata": {},
   "source": [
    "Khối thi không dự báo được điểm do các biến bị gap"
   ]
  },
  {
   "cell_type": "code",
   "execution_count": 27,
   "metadata": {},
   "outputs": [
    {
     "data": {
      "image/png": "[encoded data removed]",
      "text/plain": [
       "<Figure size 640x480 with 1 Axes>"
      ]
     },
     "metadata": {},
     "output_type": "display_data"
    }
   ],
   "source": [
    "sns.boxplot(x='M2', y='KT',data=df, orient='h')\n",
    "plt.show()\n",
    "# Câu hỏi: Khối thi nào có lower bound trùng với tứ phân vị thứ 1 (tức là Q1)\n"
   ]
  },
  {
   "cell_type": "markdown",
   "metadata": {},
   "source": [
    "### Multi variate analysis <br>\n",
    "- Tương quan (Tác động quan hệ) giữa các biến số định lượng\n",
    "    - `(X,Y) co-variance` < 0 Tương quan `nghịch`\n",
    "    - `(X,Y) co-variance` > 0 Tương quan `Thuận`\n",
    "    - `(X,Y) co-variance` = 0 Không tương quan"
   ]
  },
  {
   "cell_type": "code",
   "execution_count": 30,
   "metadata": {},
   "outputs": [
    {
     "data": {
      "text/html": [
       "<div>\n",
       "<style scoped>\n",
       "    .dataframe tbody tr th:only-of-type {\n",
       "        vertical-align: middle;\n",
       "    }\n",
       "\n",
       "    .dataframe tbody tr th {\n",
       "        vertical-align: top;\n",
       "    }\n",
       "\n",
       "    .dataframe thead th {\n",
       "        text-align: right;\n",
       "    }\n",
       "</style>\n",
       "<table border=\"1\" class=\"dataframe\">\n",
       "  <thead>\n",
       "    <tr style=\"text-align: right;\">\n",
       "      <th></th>\n",
       "      <th>M1</th>\n",
       "      <th>M2</th>\n",
       "      <th>M3</th>\n",
       "    </tr>\n",
       "  </thead>\n",
       "  <tbody>\n",
       "    <tr>\n",
       "      <th>M1</th>\n",
       "      <td>2.028939</td>\n",
       "      <td>0.053081</td>\n",
       "      <td>0.027778</td>\n",
       "    </tr>\n",
       "    <tr>\n",
       "      <th>M2</th>\n",
       "      <td>0.053081</td>\n",
       "      <td>1.123712</td>\n",
       "      <td>-0.101010</td>\n",
       "    </tr>\n",
       "    <tr>\n",
       "      <th>M3</th>\n",
       "      <td>0.027778</td>\n",
       "      <td>-0.101010</td>\n",
       "      <td>1.083965</td>\n",
       "    </tr>\n",
       "  </tbody>\n",
       "</table>\n",
       "</div>"
      ],
      "text/plain": [
       "          M1        M2        M3\n",
       "M1  2.028939  0.053081  0.027778\n",
       "M2  0.053081  1.123712 -0.101010\n",
       "M3  0.027778 -0.101010  1.083965"
      ]
     },
     "execution_count": 30,
     "metadata": {},
     "output_type": "execute_result"
    }
   ],
   "source": [
    "df[['M1','M2','M3']].cov()"
   ]
  },
  {
   "cell_type": "markdown",
   "metadata": {},
   "source": [
    "- `|r|` < 0.5 `Thấp`\n",
    "- `|r|` 0.5 - 0.65 `Khá`\n",
    "- `|r|` 0.65 - 0.75 `Tốt`\n",
    "- `|r|` 0.75 - 0.9 `Rất tốt`\n",
    "- `|r|` > 0.9 `Hoàn hảo` <br>\n",
    "<a href=\"\" rel=\"some text\"><img src=\"../data/download.jpg\" alt=\"\" /></a>"
   ]
  },
  {
   "cell_type": "code",
   "execution_count": 31,
   "metadata": {},
   "outputs": [
    {
     "data": {
      "text/html": [
       "<div>\n",
       "<style scoped>\n",
       "    .dataframe tbody tr th:only-of-type {\n",
       "        vertical-align: middle;\n",
       "    }\n",
       "\n",
       "    .dataframe tbody tr th {\n",
       "        vertical-align: top;\n",
       "    }\n",
       "\n",
       "    .dataframe thead th {\n",
       "        text-align: right;\n",
       "    }\n",
       "</style>\n",
       "<table border=\"1\" class=\"dataframe\">\n",
       "  <thead>\n",
       "    <tr style=\"text-align: right;\">\n",
       "      <th></th>\n",
       "      <th>M1</th>\n",
       "      <th>M2</th>\n",
       "    </tr>\n",
       "  </thead>\n",
       "  <tbody>\n",
       "    <tr>\n",
       "      <th>M1</th>\n",
       "      <td>1.000000</td>\n",
       "      <td>0.035154</td>\n",
       "    </tr>\n",
       "    <tr>\n",
       "      <th>M2</th>\n",
       "      <td>0.035154</td>\n",
       "      <td>1.000000</td>\n",
       "    </tr>\n",
       "  </tbody>\n",
       "</table>\n",
       "</div>"
      ],
      "text/plain": [
       "          M1        M2\n",
       "M1  1.000000  0.035154\n",
       "M2  0.035154  1.000000"
      ]
     },
     "execution_count": 31,
     "metadata": {},
     "output_type": "execute_result"
    }
   ],
   "source": [
    "df[['M1','M2']].corr()"
   ]
  },
  {
   "cell_type": "code",
   "execution_count": null,
   "metadata": {},
   "outputs": [
    {
     "data": {
      "image/png": "[encoded data removed]",
      "text/plain": [
       "<Figure size 500x500 with 1 Axes>"
      ]
     },
     "metadata": {},
     "output_type": "display_data"
    }
   ],
   "source": [
    "\n",
    "sns.lmplot(data=df, x='M1', y='M2', fit_reg=True)\n",
    "plt.show()"
   ]
  },
  {
   "cell_type": "code",
   "execution_count": null,
   "metadata": {},
   "outputs": [],
   "source": []
  }
 ],
 "metadata": {
  "kernelspec": {
   "display_name": "base",
   "language": "python",
   "name": "python3"
  },
  "language_info": {
   "codemirror_mode": {
    "name": "ipython",
    "version": 3
   },
   "file_extension": ".py",
   "mimetype": "text/x-python",
   "name": "python",
   "nbconvert_exporter": "python",
   "pygments_lexer": "ipython3",
   "version": "3.12.4"
  }
 },
 "nbformat": 4,
 "nbformat_minor": 2
}
